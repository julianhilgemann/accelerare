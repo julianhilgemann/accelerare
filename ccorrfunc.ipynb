{
 "cells": [
  {
   "cell_type": "code",
   "execution_count": 1,
   "id": "315a5637-2549-4418-9401-c91ee56e8167",
   "metadata": {},
   "outputs": [
    {
     "data": {
      "text/plain": [
       "[('Gold', 'HCPI'),\n",
       " ('Gold', 'ALQ'),\n",
       " ('Gold', 'EZBEFZ'),\n",
       " ('Gold', 'Aufträge'),\n",
       " ('HCPI', 'ALQ'),\n",
       " ('HCPI', 'EZBEFZ'),\n",
       " ('HCPI', 'Aufträge'),\n",
       " ('ALQ', 'EZBEFZ'),\n",
       " ('ALQ', 'Aufträge'),\n",
       " ('EZBEFZ', 'Aufträge')]"
      ]
     },
     "execution_count": 1,
     "metadata": {},
     "output_type": "execute_result"
    }
   ],
   "source": [
    "from itertools import combinations\n",
    "import numpy as np\n",
    "import seaborn as sns\n",
    "(list(combinations([\"Gold\",\"HCPI\",\"ALQ\",\"EZBEFZ\",\"Aufträge\"],2)))"
   ]
  },
  {
   "cell_type": "code",
   "execution_count": 4,
   "id": "434c991e-bf25-4501-80a8-c2fbf9d4dadb",
   "metadata": {},
   "outputs": [
    {
     "name": "stdout",
     "output_type": "stream",
     "text": [
      "  col1 col2                                        correlation\n",
      "0    A    B  [0.32142857142857145, 0.42857142857142855, 0.3...\n",
      "1    A    C  [-0.32142857142857145, -0.42857142857142855, -...\n",
      "2    B    C  [0.32142857142857145, 0.42857142857142855, 0.3...\n"
     ]
    }
   ],
   "source": [
    "import itertools\n",
    "import pandas as pd\n",
    "\n",
    "def get_cross_correlations(df):\n",
    "    # Get all pairwise combinations of the columns\n",
    "    combinations = list(itertools.combinations(df.columns, 2))\n",
    "    \n",
    "    npts = len(df)\n",
    "    lags = np.arange(-npts + 1, npts)\n",
    "    \n",
    "    # Initialize an empty list to store the cross-correlation values\n",
    "    cross_correlations = []\n",
    "    \n",
    "    for col1, col2 in combinations:\n",
    "        cross_covariance = np.correlate(df[col1].values - df[col1].values.mean(), df[col2].values - df[col2].values.mean(), mode=\"full\" )\n",
    "        ccor = cross_covariance / (npts * df[col1].values.std() * df[col2].values.std())\n",
    "        cross_correlations.append({\"col1\": col1, \"col2\": col2, \"correlation\": ccor})\n",
    "        # Create a new dataframe with the cross-correlation values\n",
    "        cross_corr_df = pd.DataFrame(cross_correlations)\n",
    "    return cross_corr_df\n",
    "\n",
    "# Test the function with a sample dataframe\n",
    "df = pd.DataFrame({\"A\": [1, 2, 3, 4, 5,6,7], \"B\": [-2, -3, -4, -5, -6,-7,-8], \"C\": [3, 4, 5, 6, 7,8,9]})\n",
    "cross_corr_df = get_cross_correlations(df)\n",
    "print(cross_corr_df)"
   ]
  },
  {
   "cell_type": "code",
   "execution_count": 155,
   "id": "8f5c292b-6878-4de5-860a-dc2a7e4483d5",
   "metadata": {},
   "outputs": [
    {
     "data": {
      "text/plain": [
       "array([[ 0.32142857, -0.32142857,  0.32142857],\n",
       "       [ 0.42857143, -0.42857143,  0.42857143],\n",
       "       [ 0.35714286, -0.35714286,  0.35714286],\n",
       "       [ 0.14285714, -0.14285714,  0.14285714],\n",
       "       [-0.17857143,  0.17857143, -0.17857143],\n",
       "       [-0.57142857,  0.57142857, -0.57142857],\n",
       "       [-1.        ,  1.        , -1.        ],\n",
       "       [-0.57142857,  0.57142857, -0.57142857],\n",
       "       [-0.17857143,  0.17857143, -0.17857143],\n",
       "       [ 0.14285714, -0.14285714,  0.14285714],\n",
       "       [ 0.35714286, -0.35714286,  0.35714286],\n",
       "       [ 0.42857143, -0.42857143,  0.42857143],\n",
       "       [ 0.32142857, -0.32142857,  0.32142857]])"
      ]
     },
     "execution_count": 155,
     "metadata": {},
     "output_type": "execute_result"
    }
   ],
   "source": []
  },
  {
   "cell_type": "code",
   "execution_count": 156,
   "id": "7346de84-1e05-4f4c-a204-3537d18fa700",
   "metadata": {},
   "outputs": [
    {
     "data": {
      "text/plain": [
       "<AxesSubplot: >"
      ]
     },
     "execution_count": 156,
     "metadata": {},
     "output_type": "execute_result"
    },
    {
     "data": {
      "image/png": "[encoded data removed]",
      "text/plain": [
       "<Figure size 640x480 with 2 Axes>"
      ]
     },
     "metadata": {},
     "output_type": "display_data"
    }
   ],
   "source": [
    "sns.heatmap(np.stack(cross_corr_df[\"correlation\"].values, axis=0).T)"
   ]
  },
  {
   "cell_type": "code",
   "execution_count": null,
   "id": "eec32fff-9c9f-4db6-b4a9-f42d96e79bcc",
   "metadata": {},
   "outputs": [],
   "source": []
  }
 ],
 "metadata": {
  "kernelspec": {
   "display_name": "Python 3 (ipykernel)",
   "language": "python",
   "name": "python3"
  },
  "language_info": {
   "codemirror_mode": {
    "name": "ipython",
    "version": 3
   },
   "file_extension": ".py",
   "mimetype": "text/x-python",
   "name": "python",
   "nbconvert_exporter": "python",
   "pygments_lexer": "ipython3",
   "version": "3.11.0"
  }
 },
 "nbformat": 4,
 "nbformat_minor": 5
}
