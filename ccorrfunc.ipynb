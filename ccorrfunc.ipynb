{
 "cells": [
  {
   "cell_type": "code",
   "execution_count": 160,
   "id": "315a5637-2549-4418-9401-c91ee56e8167",
   "metadata": {},
   "outputs": [
    {
     "data": {
      "text/plain": [
       "[('Gold', 'HCPI'),\n",
       " ('Gold', 'ALQ'),\n",
       " ('Gold', 'EZBEFZ'),\n",
       " ('Gold', 'Aufträge'),\n",
       " ('HCPI', 'ALQ'),\n",
       " ('HCPI', 'EZBEFZ'),\n",
       " ('HCPI', 'Aufträge'),\n",
       " ('ALQ', 'EZBEFZ'),\n",
       " ('ALQ', 'Aufträge'),\n",
       " ('EZBEFZ', 'Aufträge')]"
      ]
     },
     "execution_count": 160,
     "metadata": {},
     "output_type": "execute_result"
    }
   ],
   "source": [
    "from itertools import combinations\n",
    "import numpy as np\n",
    "import seaborn as sns\n",
    "import itertools\n",
    "import pandas as pd"
   ]
  },
  {
   "cell_type": "code",
   "execution_count": 186,
   "id": "5d0da9c4-bc9a-4139-9772-b897eb1b5f19",
   "metadata": {},
   "outputs": [
    {
     "name": "stdout",
     "output_type": "stream",
     "text": [
      "['Gold vs. HCPI', 'Gold vs. ALQ', 'Gold vs. EZBEFZ', 'Gold vs. Aufträge', 'HCPI vs. ALQ', 'HCPI vs. EZBEFZ', 'HCPI vs. Aufträge', 'ALQ vs. EZBEFZ', 'ALQ vs. Aufträge', 'EZBEFZ vs. Aufträge']\n"
     ]
    }
   ],
   "source": [
    "Text = (list(combinations([\"Gold\",\"HCPI\",\"ALQ\",\"EZBEFZ\",\"Aufträge\"],2)))    "
   ]
  },
  {
   "cell_type": "code",
   "execution_count": 207,
   "id": "434c991e-bf25-4501-80a8-c2fbf9d4dadb",
   "metadata": {},
   "outputs": [
    {
     "name": "stderr",
     "output_type": "stream",
     "text": [
      "C:\\Users\\JulianHilgemann(Bilt\\AppData\\Local\\Temp\\ipykernel_12248\\3759574913.py:23: FutureWarning: The frame.append method is deprecated and will be removed from pandas in a future version. Use pandas.concat instead.\n",
      "  cross_correlations.append({\"col1\": col1, \"col2\": col2, \"correlation\": ccor})\n"
     ]
    },
    {
     "ename": "TypeError",
     "evalue": "Can only append a dict if ignore_index=True",
     "output_type": "error",
     "traceback": [
      "\u001b[1;31m---------------------------------------------------------------------------\u001b[0m",
      "\u001b[1;31mTypeError\u001b[0m                                 Traceback (most recent call last)",
      "Cell \u001b[1;32mIn[207], line 34\u001b[0m\n\u001b[0;32m     31\u001b[0m \u001b[38;5;66;03m#### Test\u001b[39;00m\n\u001b[0;32m     33\u001b[0m df \u001b[38;5;241m=\u001b[39m pd\u001b[38;5;241m.\u001b[39mDataFrame({\u001b[38;5;124m\"\u001b[39m\u001b[38;5;124mA\u001b[39m\u001b[38;5;124m\"\u001b[39m: [\u001b[38;5;241m1\u001b[39m, \u001b[38;5;241m2\u001b[39m, \u001b[38;5;241m3\u001b[39m, \u001b[38;5;241m4\u001b[39m, \u001b[38;5;241m5\u001b[39m,\u001b[38;5;241m6\u001b[39m,\u001b[38;5;241m7\u001b[39m], \u001b[38;5;124m\"\u001b[39m\u001b[38;5;124mB\u001b[39m\u001b[38;5;124m\"\u001b[39m: [\u001b[38;5;241m-\u001b[39m\u001b[38;5;241m2\u001b[39m, \u001b[38;5;241m-\u001b[39m\u001b[38;5;241m3\u001b[39m, \u001b[38;5;241m-\u001b[39m\u001b[38;5;241m4\u001b[39m, \u001b[38;5;241m-\u001b[39m\u001b[38;5;241m5\u001b[39m, \u001b[38;5;241m-\u001b[39m\u001b[38;5;241m6\u001b[39m,\u001b[38;5;241m-\u001b[39m\u001b[38;5;241m7\u001b[39m,\u001b[38;5;241m-\u001b[39m\u001b[38;5;241m8\u001b[39m], \u001b[38;5;124m\"\u001b[39m\u001b[38;5;124mC\u001b[39m\u001b[38;5;124m\"\u001b[39m: [\u001b[38;5;241m3\u001b[39m, \u001b[38;5;241m4\u001b[39m, \u001b[38;5;241m5\u001b[39m, \u001b[38;5;241m6\u001b[39m, \u001b[38;5;241m7\u001b[39m,\u001b[38;5;241m8\u001b[39m,\u001b[38;5;241m9\u001b[39m]})\n\u001b[1;32m---> 34\u001b[0m CCDF \u001b[38;5;241m=\u001b[39m \u001b[43mget_cross_correlations\u001b[49m\u001b[43m(\u001b[49m\u001b[43mdf\u001b[49m\u001b[43m)\u001b[49m\n\u001b[0;32m     35\u001b[0m \u001b[38;5;28mprint\u001b[39m(df)\n",
      "Cell \u001b[1;32mIn[207], line 23\u001b[0m, in \u001b[0;36mget_cross_correlations\u001b[1;34m(df)\u001b[0m\n\u001b[0;32m     21\u001b[0m cross_covariance \u001b[38;5;241m=\u001b[39m np\u001b[38;5;241m.\u001b[39mcorrelate(df[col1]\u001b[38;5;241m.\u001b[39mvalues \u001b[38;5;241m-\u001b[39m df[col1]\u001b[38;5;241m.\u001b[39mvalues\u001b[38;5;241m.\u001b[39mmean(), df[col2]\u001b[38;5;241m.\u001b[39mvalues \u001b[38;5;241m-\u001b[39m df[col2]\u001b[38;5;241m.\u001b[39mvalues\u001b[38;5;241m.\u001b[39mmean(), mode\u001b[38;5;241m=\u001b[39m\u001b[38;5;124m\"\u001b[39m\u001b[38;5;124mfull\u001b[39m\u001b[38;5;124m\"\u001b[39m)\n\u001b[0;32m     22\u001b[0m ccor \u001b[38;5;241m=\u001b[39m cross_covariance \u001b[38;5;241m/\u001b[39m (npts \u001b[38;5;241m*\u001b[39m df[col1]\u001b[38;5;241m.\u001b[39mvalues\u001b[38;5;241m.\u001b[39mstd() \u001b[38;5;241m*\u001b[39m df[col2]\u001b[38;5;241m.\u001b[39mvalues\u001b[38;5;241m.\u001b[39mstd())\n\u001b[1;32m---> 23\u001b[0m \u001b[43mcross_correlations\u001b[49m\u001b[38;5;241;43m.\u001b[39;49m\u001b[43mappend\u001b[49m\u001b[43m(\u001b[49m\u001b[43m{\u001b[49m\u001b[38;5;124;43m\"\u001b[39;49m\u001b[38;5;124;43mcol1\u001b[39;49m\u001b[38;5;124;43m\"\u001b[39;49m\u001b[43m:\u001b[49m\u001b[43m \u001b[49m\u001b[43mcol1\u001b[49m\u001b[43m,\u001b[49m\u001b[43m \u001b[49m\u001b[38;5;124;43m\"\u001b[39;49m\u001b[38;5;124;43mcol2\u001b[39;49m\u001b[38;5;124;43m\"\u001b[39;49m\u001b[43m:\u001b[49m\u001b[43m \u001b[49m\u001b[43mcol2\u001b[49m\u001b[43m,\u001b[49m\u001b[43m \u001b[49m\u001b[38;5;124;43m\"\u001b[39;49m\u001b[38;5;124;43mcorrelation\u001b[39;49m\u001b[38;5;124;43m\"\u001b[39;49m\u001b[43m:\u001b[49m\u001b[43m \u001b[49m\u001b[43mccor\u001b[49m\u001b[43m}\u001b[49m\u001b[43m)\u001b[49m\n\u001b[0;32m     25\u001b[0m \u001b[38;5;66;03m# Create a new dataframe with the cross-correlation values\u001b[39;00m\n\u001b[0;32m     26\u001b[0m cross_corr_df \u001b[38;5;241m=\u001b[39m pd\u001b[38;5;241m.\u001b[39mDataFrame(cross_correlations)\n",
      "File \u001b[1;32m~\\AppData\\Local\\Programs\\Python\\Python311\\Lib\\site-packages\\pandas\\core\\frame.py:9765\u001b[0m, in \u001b[0;36mDataFrame.append\u001b[1;34m(self, other, ignore_index, verify_integrity, sort)\u001b[0m\n\u001b[0;32m   9662\u001b[0m \u001b[38;5;124;03m\"\"\"\u001b[39;00m\n\u001b[0;32m   9663\u001b[0m \u001b[38;5;124;03mAppend rows of `other` to the end of caller, returning a new object.\u001b[39;00m\n\u001b[0;32m   9664\u001b[0m \n\u001b[1;32m   (...)\u001b[0m\n\u001b[0;32m   9755\u001b[0m \u001b[38;5;124;03m4  4\u001b[39;00m\n\u001b[0;32m   9756\u001b[0m \u001b[38;5;124;03m\"\"\"\u001b[39;00m\n\u001b[0;32m   9757\u001b[0m warnings\u001b[38;5;241m.\u001b[39mwarn(\n\u001b[0;32m   9758\u001b[0m     \u001b[38;5;124m\"\u001b[39m\u001b[38;5;124mThe frame.append method is deprecated \u001b[39m\u001b[38;5;124m\"\u001b[39m\n\u001b[0;32m   9759\u001b[0m     \u001b[38;5;124m\"\u001b[39m\u001b[38;5;124mand will be removed from pandas in a future version. \u001b[39m\u001b[38;5;124m\"\u001b[39m\n\u001b[1;32m   (...)\u001b[0m\n\u001b[0;32m   9762\u001b[0m     stacklevel\u001b[38;5;241m=\u001b[39mfind_stack_level(),\n\u001b[0;32m   9763\u001b[0m )\n\u001b[1;32m-> 9765\u001b[0m \u001b[38;5;28;01mreturn\u001b[39;00m \u001b[38;5;28;43mself\u001b[39;49m\u001b[38;5;241;43m.\u001b[39;49m\u001b[43m_append\u001b[49m\u001b[43m(\u001b[49m\u001b[43mother\u001b[49m\u001b[43m,\u001b[49m\u001b[43m \u001b[49m\u001b[43mignore_index\u001b[49m\u001b[43m,\u001b[49m\u001b[43m \u001b[49m\u001b[43mverify_integrity\u001b[49m\u001b[43m,\u001b[49m\u001b[43m \u001b[49m\u001b[43msort\u001b[49m\u001b[43m)\u001b[49m\n",
      "File \u001b[1;32m~\\AppData\\Local\\Programs\\Python\\Python311\\Lib\\site-packages\\pandas\\core\\frame.py:9777\u001b[0m, in \u001b[0;36mDataFrame._append\u001b[1;34m(self, other, ignore_index, verify_integrity, sort)\u001b[0m\n\u001b[0;32m   9775\u001b[0m \u001b[38;5;28;01mif\u001b[39;00m \u001b[38;5;28misinstance\u001b[39m(other, \u001b[38;5;28mdict\u001b[39m):\n\u001b[0;32m   9776\u001b[0m     \u001b[38;5;28;01mif\u001b[39;00m \u001b[38;5;129;01mnot\u001b[39;00m ignore_index:\n\u001b[1;32m-> 9777\u001b[0m         \u001b[38;5;28;01mraise\u001b[39;00m \u001b[38;5;167;01mTypeError\u001b[39;00m(\u001b[38;5;124m\"\u001b[39m\u001b[38;5;124mCan only append a dict if ignore_index=True\u001b[39m\u001b[38;5;124m\"\u001b[39m)\n\u001b[0;32m   9778\u001b[0m     other \u001b[38;5;241m=\u001b[39m Series(other)\n\u001b[0;32m   9779\u001b[0m \u001b[38;5;28;01mif\u001b[39;00m other\u001b[38;5;241m.\u001b[39mname \u001b[38;5;129;01mis\u001b[39;00m \u001b[38;5;28;01mNone\u001b[39;00m \u001b[38;5;129;01mand\u001b[39;00m \u001b[38;5;129;01mnot\u001b[39;00m ignore_index:\n",
      "\u001b[1;31mTypeError\u001b[0m: Can only append a dict if ignore_index=True"
     ]
    }
   ],
   "source": [
    "def get_cross_correlations(df):\n",
    "    \n",
    "    \n",
    "    # Get all pairwise combinations of the columns\n",
    "    combinations = list(itertools.combinations(df.columns, 2))\n",
    "    \n",
    "    # Create Labels for simple visual identification\n",
    "   \n",
    "    map_labels = []\n",
    "    for col1, col2 in combinations:\n",
    "        map_labels.append(col1 + \" vs. \" + col2)\n",
    "    \n",
    "    npts = len(df)\n",
    "    lags = np.arange(-npts + 1, npts)\n",
    "    lag_labels = pd.Series(lags.astype(str))\n",
    "    \n",
    "    # Initialize an empty list to store the cross-correlation values\n",
    "    cross_correlations = []\n",
    "    \n",
    "    for col1, col2 in combinations:\n",
    "        cross_covariance = np.correlate(df[col1].values - df[col1].values.mean(), df[col2].values - df[col2].values.mean(), mode=\"full\")\n",
    "        ccor = cross_covariance / (npts * df[col1].values.std() * df[col2].values.std())\n",
    "        cross_correlations.append({\"col1\": col1, \"col2\": col2, \"correlation\": ccor})\n",
    "        \n",
    "        # Create a new dataframe with the cross-correlation values\n",
    "        cross_corr_df = pd.DataFrame(cross_correlations)\n",
    "        cross_correlations = pd.DataFrame(np.stack(cross_corr_df[\"correlation\"].values, axis=0).T)\n",
    "        \n",
    "    return cross_correlations\n",
    "\n",
    "#### Test\n",
    "\n",
    "df = pd.DataFrame({\"A\": [1, 2, 3, 4, 5,6,7], \"B\": [-2, -3, -4, -5, -6,-7,-8], \"C\": [3, 4, 5, 6, 7,8,9]})\n",
    "CCDF = get_cross_correlations(df)\n",
    "print(df)"
   ]
  },
  {
   "cell_type": "code",
   "execution_count": 208,
   "id": "7346de84-1e05-4f4c-a204-3537d18fa700",
   "metadata": {},
   "outputs": [
    {
     "data": {
      "text/html": [
       "<div>\n",
       "<style scoped>\n",
       "    .dataframe tbody tr th:only-of-type {\n",
       "        vertical-align: middle;\n",
       "    }\n",
       "\n",
       "    .dataframe tbody tr th {\n",
       "        vertical-align: top;\n",
       "    }\n",
       "\n",
       "    .dataframe thead th {\n",
       "        text-align: right;\n",
       "    }\n",
       "</style>\n",
       "<table border=\"1\" class=\"dataframe\">\n",
       "  <thead>\n",
       "    <tr style=\"text-align: right;\">\n",
       "      <th></th>\n",
       "      <th>A</th>\n",
       "      <th>B</th>\n",
       "      <th>C</th>\n",
       "    </tr>\n",
       "  </thead>\n",
       "  <tbody>\n",
       "    <tr>\n",
       "      <th>0</th>\n",
       "      <td>1</td>\n",
       "      <td>-2</td>\n",
       "      <td>3</td>\n",
       "    </tr>\n",
       "    <tr>\n",
       "      <th>1</th>\n",
       "      <td>2</td>\n",
       "      <td>-3</td>\n",
       "      <td>4</td>\n",
       "    </tr>\n",
       "    <tr>\n",
       "      <th>2</th>\n",
       "      <td>3</td>\n",
       "      <td>-4</td>\n",
       "      <td>5</td>\n",
       "    </tr>\n",
       "    <tr>\n",
       "      <th>3</th>\n",
       "      <td>4</td>\n",
       "      <td>-5</td>\n",
       "      <td>6</td>\n",
       "    </tr>\n",
       "    <tr>\n",
       "      <th>4</th>\n",
       "      <td>5</td>\n",
       "      <td>-6</td>\n",
       "      <td>7</td>\n",
       "    </tr>\n",
       "    <tr>\n",
       "      <th>5</th>\n",
       "      <td>6</td>\n",
       "      <td>-7</td>\n",
       "      <td>8</td>\n",
       "    </tr>\n",
       "    <tr>\n",
       "      <th>6</th>\n",
       "      <td>7</td>\n",
       "      <td>-8</td>\n",
       "      <td>9</td>\n",
       "    </tr>\n",
       "  </tbody>\n",
       "</table>\n",
       "</div>"
      ],
      "text/plain": [
       "   A  B  C\n",
       "0  1 -2  3\n",
       "1  2 -3  4\n",
       "2  3 -4  5\n",
       "3  4 -5  6\n",
       "4  5 -6  7\n",
       "5  6 -7  8\n",
       "6  7 -8  9"
      ]
     },
     "execution_count": 208,
     "metadata": {},
     "output_type": "execute_result"
    }
   ],
   "source": [
    "df"
   ]
  },
  {
   "cell_type": "code",
   "execution_count": 200,
   "id": "698d09ef-a562-4365-982a-a48c6a27e9aa",
   "metadata": {},
   "outputs": [
    {
     "data": {
      "text/plain": [
       "[Text(0.5, 23.52222222222222, 'lorem'), Text(50.722222222222214, 0.5, 'ipsum')]"
      ]
     },
     "execution_count": 200,
     "metadata": {},
     "output_type": "execute_result"
    },
    {
     "data": {
      "image/png": "[encoded data removed]",
      "text/plain": [
       "<Figure size 640x480 with 2 Axes>"
      ]
     },
     "metadata": {},
     "output_type": "display_data"
    }
   ],
   "source": [
    "sns.heatmap(np.stack(cross_corr_df[\"correlation\"].values, axis=0).T, vmin=-1, vmax=1).set(xlabel=\"lorem\", ylabel=\"ipsum\")"
   ]
  },
  {
   "cell_type": "code",
   "execution_count": 214,
   "id": "17f77239-07a4-4a1d-af7b-aef642b728ec",
   "metadata": {},
   "outputs": [
    {
     "data": {
      "text/plain": [
       "[('A', 'B'), ('A', 'C'), ('B', 'C')]"
      ]
     },
     "execution_count": 214,
     "metadata": {},
     "output_type": "execute_result"
    }
   ],
   "source": [
    "list(itertools.combinations(df.columns, 2))"
   ]
  },
  {
   "cell_type": "code",
   "execution_count": null,
   "id": "cf830c74-c98c-4a14-ae68-a5ab4f33e67b",
   "metadata": {},
   "outputs": [],
   "source": []
  }
 ],
 "metadata": {
  "kernelspec": {
   "display_name": "Python 3 (ipykernel)",
   "language": "python",
   "name": "python3"
  },
  "language_info": {
   "codemirror_mode": {
    "name": "ipython",
    "version": 3
   },
   "file_extension": ".py",
   "mimetype": "text/x-python",
   "name": "python",
   "nbconvert_exporter": "python",
   "pygments_lexer": "ipython3",
   "version": "3.11.0"
  }
 },
 "nbformat": 4,
 "nbformat_minor": 5
}
