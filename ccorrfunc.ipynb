{
 "cells": [
  {
   "cell_type": "code",
   "execution_count": 16,
   "id": "315a5637-2549-4418-9401-c91ee56e8167",
   "metadata": {},
   "outputs": [
    {
     "data": {
      "text/plain": [
       "[('Gold', 'HCPI'),\n",
       " ('Gold', 'ALQ'),\n",
       " ('Gold', 'EZBEFZ'),\n",
       " ('Gold', 'Aufträge'),\n",
       " ('HCPI', 'ALQ'),\n",
       " ('HCPI', 'EZBEFZ'),\n",
       " ('HCPI', 'Aufträge'),\n",
       " ('ALQ', 'EZBEFZ'),\n",
       " ('ALQ', 'Aufträge'),\n",
       " ('EZBEFZ', 'Aufträge')]"
      ]
     },
     "execution_count": 16,
     "metadata": {},
     "output_type": "execute_result"
    }
   ],
   "source": [
    "from itertools import combinations\n",
    "import numpy as np\n",
    "(list(combinations([\"Gold\",\"HCPI\",\"ALQ\",\"EZBEFZ\",\"Aufträge\"],2)))"
   ]
  },
  {
   "cell_type": "code",
   "execution_count": 10,
   "id": "58002882-210e-4300-84c7-81332fb73a52",
   "metadata": {},
   "outputs": [
    {
     "name": "stdout",
     "output_type": "stream",
     "text": [
      "  col1 col2  correlation\n",
      "0    A    B          1.0\n",
      "1    A    C          1.0\n",
      "2    B    C          1.0\n"
     ]
    }
   ],
   "source": [
    "import itertools\n",
    "import pandas as pd\n",
    "\n",
    "# Assume that df is your dataframe with columns A, B, and C\n",
    "df = pd.DataFrame({\"A\": [1, 2, 3, 4, 5], \"B\": [2, 3, 4, 5, 6], \"C\": [3, 4, 5, 6, 7]})\n",
    "\n",
    "# Get all pairwise combinations of the columns\n",
    "combinations = list(itertools.combinations(df.columns, 2))\n",
    "\n",
    "# Initialize an empty list to store the cross-correlation values\n",
    "cross_correlations = []\n",
    "\n",
    "# Iterate over the combinations and calculate the cross-correlation for each pair\n",
    "for col1, col2 in combinations:\n",
    "    cross_corr = df[col1].corr(df[col2])\n",
    "    cross_correlations.append({\"col1\": col1, \"col2\": col2, \"correlation\": cross_corr})\n",
    "\n",
    "# Create a new dataframe with the cross-correlation values\n",
    "cross_corr_df = pd.DataFrame(cross_correlations)\n",
    "\n",
    "# Print the resulting dataframe\n",
    "print(cross_corr_df)\n"
   ]
  },
  {
   "cell_type": "code",
   "execution_count": 22,
   "id": "434c991e-bf25-4501-80a8-c2fbf9d4dadb",
   "metadata": {},
   "outputs": [
    {
     "name": "stdout",
     "output_type": "stream",
     "text": [
      "  col1 col2                                        correlation\n",
      "0    A    B  [0.32142857142857145, 0.42857142857142855, 0.3...\n",
      "1    A    C  [-0.32142857142857145, -0.42857142857142855, -...\n",
      "2    B    C  [0.32142857142857145, 0.42857142857142855, 0.3...\n"
     ]
    }
   ],
   "source": [
    "import itertools\n",
    "import pandas as pd\n",
    "\n",
    "def get_cross_correlations(df):\n",
    "    # Get all pairwise combinations of the columns\n",
    "    combinations = list(itertools.combinations(df.columns, 2))\n",
    "    \n",
    "    npts = len(df)\n",
    "    lags = np.arange(-npts + 1, npts)\n",
    "    \n",
    "    # Initialize an empty list to store the cross-correlation values\n",
    "    cross_correlations = []\n",
    "    \n",
    "    for col1, col2 in combinations:\n",
    "        cross_covariance = np.correlate(df[col1].values - df[col1].values.mean(), df[col2].values - df[col2].values.mean(), mode=\"full\" )\n",
    "        ccor = cross_covariance / (npts * df[col1].values.std() * df[col2].values.std())\n",
    "        cross_correlations.append({\"col1\": col1, \"col2\": col2, \"correlation\": ccor})\n",
    "        # Create a new dataframe with the cross-correlation values\n",
    "        cross_corr_df = pd.DataFrame(cross_correlations)\n",
    "    return cross_corr_df\n",
    "\n",
    "# Test the function with a sample dataframe\n",
    "df = pd.DataFrame({\"A\": [1, 2, 3, 4, 5,6,7], \"B\": [-2, -3, -4, -5, -6,-7,-8], \"C\": [3, 4, 5, 6, 7,8,9]})\n",
    "cross_corr_df = get_cross_correlations(df)\n",
    "print(cross_corr_df)"
   ]
  },
  {
   "cell_type": "code",
   "execution_count": 24,
   "id": "441a33a0-72b9-4f95-b246-f89f31fa3c76",
   "metadata": {},
   "outputs": [
    {
     "data": {
      "text/plain": [
       "<bound method NDFrame.head of   col1 col2                                        correlation\n",
       "0    A    B  [0.32142857142857145, 0.42857142857142855, 0.3...\n",
       "1    A    C  [-0.32142857142857145, -0.42857142857142855, -...\n",
       "2    B    C  [0.32142857142857145, 0.42857142857142855, 0.3...>"
      ]
     },
     "execution_count": 24,
     "metadata": {},
     "output_type": "execute_result"
    }
   ],
   "source": [
    "cross_corr_df.head"
   ]
  }
 ],
 "metadata": {
  "kernelspec": {
   "display_name": "Python 3 (ipykernel)",
   "language": "python",
   "name": "python3"
  },
  "language_info": {
   "codemirror_mode": {
    "name": "ipython",
    "version": 3
   },
   "file_extension": ".py",
   "mimetype": "text/x-python",
   "name": "python",
   "nbconvert_exporter": "python",
   "pygments_lexer": "ipython3",
   "version": "3.11.0"
  }
 },
 "nbformat": 4,
 "nbformat_minor": 5
}
