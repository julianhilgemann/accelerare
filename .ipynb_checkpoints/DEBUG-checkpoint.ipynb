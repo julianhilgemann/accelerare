{
 "cells": [
  {
   "cell_type": "code",
   "execution_count": 1,
   "id": "617e35d8-0e33-4bfd-aa0d-139ac1f676fc",
   "metadata": {},
   "outputs": [],
   "source": [
    "##### import of libraries for core proecessing \n",
    "\n",
    "import requests\n",
    "import numpy as np\n",
    "import statsmodels.api as sm\n",
    "import json\n",
    "import pandas as pd\n",
    "import matplotlib.pyplot as plt\n",
    "import seaborn as sns\n",
    "from sklearn.preprocessing import MinMaxScaler\n",
    "from sklearn import linear_model\n",
    "scaler = MinMaxScaler()"
   ]
  },
  {
   "cell_type": "code",
   "execution_count": 2,
   "id": "f26013f7-a1f7-469f-bfeb-e8a9317cefba",
   "metadata": {},
   "outputs": [],
   "source": [
    "##### API CAll from KEY: It takes a key and creates a URL for the API Call itself.\n",
    "\n",
    "def extract_api_call(sample_key):\n",
    "    # Split key by \".\"\n",
    "    key_list = sample_key.split(\".\")\n",
    "    # Extract FlowRef\n",
    "    flowRef = key_list[0]\n",
    "    # Extract key \n",
    "    key = sample_key[len(key_list[0])+1:]\n",
    "    # Build call string\n",
    "    # API Part of URL\n",
    "    api_part_generic = \"https://api.statistiken.bundesbank.de/rest/data/\"\n",
    "    api_part_specific = flowRef+\"/\"+key\n",
    "    api_call = api_part_generic + api_part_specific\n",
    "    return api_call"
   ]
  },
  {
   "cell_type": "code",
   "execution_count": 3,
   "id": "b2cee7b3-ace4-4496-b450-2159b5a14365",
   "metadata": {},
   "outputs": [],
   "source": [
    "##### Function that takes in the api-call and performs a request and stores the data in a response_json\n",
    "\n",
    "def auto_response_saver(api_call):\n",
    "    #Define the header\n",
    "    headers = {'accept': 'application/vnd.sdmx.data+json;version=1.0.0',}\n",
    "    # Define parameters\n",
    "    params = {'detail': 'full',}\n",
    "    # Define full-sub\n",
    "    full_response = '?detail=full'\n",
    "    # Create full call\n",
    "    full_call = api_call + full_response\n",
    "    # Get the actual response\n",
    "    response = requests.get(full_call, params=params, headers=headers,)\n",
    "    # As json\n",
    "    response_list = response.json()\n",
    "    return(response_list)"
   ]
  },
  {
   "cell_type": "code",
   "execution_count": 4,
   "id": "397ebd53-7694-410e-ad52-4666edb3cbe5",
   "metadata": {},
   "outputs": [],
   "source": [
    "##### Take Response and return DF: Navigation through the json according to keys to extract the time series data and data labels\n",
    "\n",
    "def extract_response(Response, ColName):\n",
    "    Response_Numbers = []\n",
    "    VarKey = list(Response[\"data\"][\"dataSets\"][0][\"series\"].keys())[0]\n",
    "\n",
    "    for key in Response[\"data\"][\"dataSets\"][0][\"series\"][VarKey][\"observations\"]:\n",
    "        Response_Numbers.append(Response[\"data\"][\"dataSets\"][0][\"series\"][VarKey][\"observations\"][key][0])\n",
    "\n",
    "    Response_Numbers_PD = pd.DataFrame(Response_Numbers, columns = [ColName])    \n",
    "\n",
    "    # General Timestamp [\"data\"][\"structure\"][\"dimensions\"][\"observation\"][0][\"values\"]\n",
    "    Response_Timestamp = []\n",
    "\n",
    "    for element in Response[\"data\"][\"structure\"][\"dimensions\"][\"observation\"][0][\"values\"]:\n",
    "        Response_Timestamp.append(element[\"id\"])\n",
    "\n",
    "    Response_Timestamp_PD = pd.DataFrame(Response_Timestamp, columns = [\"time\"])\n",
    "\n",
    "    Response_DF = pd.concat([Response_Timestamp_PD,Response_Numbers_PD],axis=1).set_index(\"time\")\n",
    "    \n",
    "    return Response_DF"
   ]
  },
  {
   "cell_type": "code",
   "execution_count": 22,
   "id": "75f01c85-250f-4276-abd6-b9f2bb3db93a",
   "metadata": {},
   "outputs": [],
   "source": [
    "#####Variable Declaration\n",
    "\n",
    "Keys_All = {\n",
    "    \n",
    "#\"Gold\" : \"BBEX3.M.XAU.EUR.EA.AC.C06\",\n",
    "\"ALQ\" : \"BBDL1.M.DE.Y.UNE.UBA000.A0000.A01.D00.0.R00.A\",\n",
    "#\"Zinsentwicklung\" : \"BBK01.SUD189\",\n",
    "#\"Realzinssätze_Banken\" : \"BBK01.SUR106\",\n",
    "#\"EZB_Einlagenfazilität\" : \"BBK01.SU0200\",\n",
    "\"HVPI\" :\"BBDP1.M.DE.N.HVPI.C.A00000.I15.A\",\n",
    "#\"Effektivzinsen\": \"BBK01.SUD131Z\",\n",
    "\"Auftragseingang_Bau\":\"BBDY1.M.B30.Y.G800.R0400.A\",    \n",
    "\"IR_eff_total\" : \"BBK01.SUD131Z\",\n",
    "\"VOL_total\" : \"BBK01.SUD231\",\n",
    "\"IR_eff_1\" : \"BBK01.SUD116\",\n",
    "\"VOL_1\" : \"BBK01.SUD216\",\n",
    "\"IR_eff_15\" : \"BBK01.SUD117\",\n",
    "\"VOL_15\" : \"BBK01.SUD217\",\n",
    "\"IR_eff_510\" : \"BBK01.SUD118\",\n",
    "\"VOL_510\" : \"BBK01.SUD218\",\n",
    "\"IR_eff_10\" : \"BBK01.SUD119\",\n",
    "\"VOL_10\" : \"BBK01.SUD219\"   \n",
    "}\n",
    "\n",
    "##### Create separate varables from dict\n",
    "\n",
    "for key, value in Keys_All.items():\n",
    "    exec(f\"{key} = '{value}'\")"
   ]
  },
  {
   "cell_type": "code",
   "execution_count": 23,
   "id": "f2f92ae9-0ef8-49ab-a787-d0e5e530acdb",
   "metadata": {},
   "outputs": [],
   "source": [
    "##### Manual process to avoid nested function issues/debugging\n",
    "IR_eff_total_df = extract_response(auto_response_saver(extract_api_call(IR_eff_total)),\"IR_eff_total\")\n",
    "VOL_total_df = extract_response(auto_response_saver(extract_api_call(IR_eff_total)),\"VOL_total\")\n",
    "IR_eff_1_de = extract_response(auto_response_saver(extract_api_call(IR_eff_1)),\"IR_eff_1\")\n",
    "VOL_1_df = extract_response(auto_response_saver(extract_api_call(VOL_1)),\"VOL_1\")\n",
    "IR_eff_15_de = extract_response(auto_response_saver(extract_api_call(IR_eff_15)),\"IR_eff_15\")\n",
    "VOL_15_df = extract_response(auto_response_saver(extract_api_call(VOL_15)),\"VOL_15\")\n",
    "IR_eff_510_de = extract_response(auto_response_saver(extract_api_call(IR_eff_510)),\"IR_eff_510\")\n",
    "VOL_510_df = extract_response(auto_response_saver(extract_api_call(VOL_510)),\"VOL_510\")\n",
    "IR_eff_10_de = extract_response(auto_response_saver(extract_api_call(IR_eff_10)),\"IR_eff_10\")\n",
    "VOL_10_df = extract_response(auto_response_saver(extract_api_call(VOL_10)),\"VOL_10\")\n",
    "ALQ_df = extract_response(auto_response_saver(extract_api_call(ALQ)),\"ALQ\")\n",
    "Auftragseingang_Bau_df = extract_response(auto_response_saver(extract_api_call(Auftragseingang_Bau)),\"Auftragseingang_Bau\")\n",
    "HVPI_df = extract_response(auto_response_saver(extract_api_call(HVPI)),\"HVPI\")\n",
    "\n"
   ]
  },
  {
   "cell_type": "code",
   "execution_count": 21,
   "id": "3df9180d-f06a-42f1-9fd4-fc4ccd61d7f3",
   "metadata": {},
   "outputs": [
    {
     "data": {
      "text/plain": [
       "'https://api.statistiken.bundesbank.de/rest/data/BBK01/SZD216'"
      ]
     },
     "execution_count": 21,
     "metadata": {},
     "output_type": "execute_result"
    }
   ],
   "source": [
    "extract_api_call(VOL_1)"
   ]
  },
  {
   "cell_type": "code",
   "execution_count": null,
   "id": "b7439b3a-c959-4af3-8a9e-a31533a69cb4",
   "metadata": {},
   "outputs": [],
   "source": []
  }
 ],
 "metadata": {
  "kernelspec": {
   "display_name": "Python 3 (ipykernel)",
   "language": "python",
   "name": "python3"
  },
  "language_info": {
   "codemirror_mode": {
    "name": "ipython",
    "version": 3
   },
   "file_extension": ".py",
   "mimetype": "text/x-python",
   "name": "python",
   "nbconvert_exporter": "python",
   "pygments_lexer": "ipython3",
   "version": "3.11.0"
  }
 },
 "nbformat": 4,
 "nbformat_minor": 5
}
