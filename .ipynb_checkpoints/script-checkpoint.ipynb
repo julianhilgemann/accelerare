{
 "cells": [
  {
   "cell_type": "code",
   "execution_count": 12,
   "id": "bf9cda88-b233-4e22-95dc-63e38d126634",
   "metadata": {},
   "outputs": [],
   "source": [
    "##### imports\n",
    "\n",
    "# For the API CAll\n",
    "import requests\n",
    "# Basic calculations\n",
    "import numpy as np\n",
    "# JSON Handling\n",
    "import json\n",
    "# dataframe management\n",
    "import pandas as pd\n",
    "# OS\n",
    "import os"
   ]
  },
  {
   "cell_type": "code",
   "execution_count": 2,
   "id": "2a90f0d1-458f-4f71-9444-6c6bf5420e1f",
   "metadata": {},
   "outputs": [],
   "source": [
    "##### API CAll from KEY\n",
    "\n",
    "def extract_api_call(sample_key):\n",
    "    # Split key by \".\"\n",
    "    key_list = sample_key.split(\".\")\n",
    "    # Extract FlowRef\n",
    "    flowRef = key_list[0]\n",
    "    # Extract key \n",
    "    key = sample_key[len(key_list[0])+1:]\n",
    "    # Build call string\n",
    "    # API Part of URL\n",
    "    api_part_generic = \"https://api.statistiken.bundesbank.de/rest/data/\"\n",
    "    api_part_specific = flowRef+\"/\"+key\n",
    "    api_call = api_part_generic + api_part_specific\n",
    "    return api_call"
   ]
  },
  {
   "cell_type": "code",
   "execution_count": 3,
   "id": "62204107-e9bc-4dcc-ae6d-e1bbc3d2dfc3",
   "metadata": {},
   "outputs": [],
   "source": [
    "##### Function that takes in the api-call and performs a request and stores the data in a response_json\n",
    "\n",
    "def auto_response_saver(api_call):\n",
    "    #Define the header\n",
    "    headers = {'accept': 'application/vnd.sdmx.data+json;version=1.0.0',}\n",
    "    # Define parameters\n",
    "    params = {'detail': 'full',}\n",
    "    # Define full-sub\n",
    "    full_response = '?detail=full'\n",
    "    # Create full call\n",
    "    full_call = api_call + full_response\n",
    "    # Get the actual response\n",
    "    response = requests.get(full_call, params=params, headers=headers,)\n",
    "    # As json\n",
    "    response_list = response.json()\n",
    "    return(response_list)"
   ]
  },
  {
   "cell_type": "code",
   "execution_count": 4,
   "id": "b5c271f6-ed0e-4a3d-b1a1-d06aeac25d6a",
   "metadata": {},
   "outputs": [],
   "source": [
    "##### Take Response and return DF\n",
    "\n",
    "def extract_response(Response, ColName):\n",
    "    Response_Numbers = []\n",
    "    VarKey = list(Response[\"data\"][\"dataSets\"][0][\"series\"].keys())[0]\n",
    "\n",
    "    for key in Response[\"data\"][\"dataSets\"][0][\"series\"][VarKey][\"observations\"]:\n",
    "        Response_Numbers.append(Response[\"data\"][\"dataSets\"][0][\"series\"][VarKey][\"observations\"][key][0])\n",
    "\n",
    "    Response_Numbers_PD = pd.DataFrame(Response_Numbers, columns = [ColName])    \n",
    "\n",
    "    # General Timestamp [\"data\"][\"structure\"][\"dimensions\"][\"observation\"][0][\"values\"]\n",
    "    Response_Timestamp = []\n",
    "\n",
    "    for element in Response[\"data\"][\"structure\"][\"dimensions\"][\"observation\"][0][\"values\"]:\n",
    "        Response_Timestamp.append(element[\"id\"])\n",
    "\n",
    "    Response_Timestamp_PD = pd.DataFrame(Response_Timestamp, columns = [\"time\"])\n",
    "\n",
    "    Response_DF = pd.concat([Response_Timestamp_PD,Response_Numbers_PD],axis=1).set_index(\"time\")\n",
    "    \n",
    "    return Response_DF"
   ]
  },
  {
   "cell_type": "code",
   "execution_count": 5,
   "id": "d83e473c-d752-4d82-a599-c625df3d2f2c",
   "metadata": {},
   "outputs": [],
   "source": [
    "##### Function, that takes in a KEY and a \"Name\" that then \n",
    "##### builds the api call, fetches the data, extracts the data from the response and returns dataframes separately\n",
    "\n",
    "def BBK2PD(KEY, ColName):\n",
    "    Output = extract_response(auto_response_saver(extract_api_call(KEY)), ColName)\n",
    "    return Output"
   ]
  },
  {
   "cell_type": "code",
   "execution_count": 6,
   "id": "ed004f14-6b4e-4c43-bfc2-90f046f4d248",
   "metadata": {},
   "outputs": [],
   "source": [
    "#####Variable Declaration\n",
    "\n",
    "Keys_All = {  \n",
    "\"ALQ\" : \"BBDL1.M.DE.Y.UNE.UBA000.A0000.A01.D00.0.R00.A\",\n",
    "\"EZB_Einlagenfazilität\" : \"BBK01.SU0200\",\n",
    "\"HVPI\" :\"BBDP1.M.DE.N.HVPI.C.A00000.I15.A\",\n",
    "\"Auftragseingang_Bau\":\"BBDY1.M.B30.Y.G800.R0400.A\",    \n",
    "\"IR_eff_total\" : \"BBK01.SUD131Z\",\n",
    "\"VOL_total\" : \"BBK01.SUD231\"\n",
    "}\n",
    "\n",
    "##### Create separate varables from dict\n",
    "\n",
    "for key, value in Keys_All.items():\n",
    "    exec(f\"{key} = '{value}'\")"
   ]
  },
  {
   "cell_type": "code",
   "execution_count": 7,
   "id": "7183ec43-eb13-4dba-8100-92328c2472ff",
   "metadata": {},
   "outputs": [],
   "source": [
    "##### Loop through the Dict and save Variables in dataframes\n",
    "for key, value in Keys_All.items():\n",
    "     exec(f\"{key} = BBK2PD(value, key)\")\n",
    "        \n",
    "# Create an empty list to store the values and loop through the dictionary and extract the values \n",
    "values = []\n",
    "for key in Keys_All:\n",
    "    values.append(globals()[key])\n",
    "#Concat all variables and join the by common index.\n",
    "DTF = pd.concat(values,axis=1,join=\"inner\")\n",
    "del values"
   ]
  },
  {
   "cell_type": "code",
   "execution_count": 34,
   "id": "4841f97e-8816-4863-8ce1-e0765588af4f",
   "metadata": {},
   "outputs": [],
   "source": [
    "##### Saving the dataframe as .csv in relation to CWD-Subfolder \"Data\"\n",
    "dirname = os.getcwd()\n",
    "os.mkdir(\"Data_CSV\")\n",
    "os.chdir(\"Data_CSV\")\n",
    "DTF.to_csv('dataframe.csv', index=True)"
   ]
  }
 ],
 "metadata": {
  "kernelspec": {
   "display_name": "Python 3 (ipykernel)",
   "language": "python",
   "name": "python3"
  },
  "language_info": {
   "codemirror_mode": {
    "name": "ipython",
    "version": 3
   },
   "file_extension": ".py",
   "mimetype": "text/x-python",
   "name": "python",
   "nbconvert_exporter": "python",
   "pygments_lexer": "ipython3",
   "version": "3.11.0"
  }
 },
 "nbformat": 4,
 "nbformat_minor": 5
}
