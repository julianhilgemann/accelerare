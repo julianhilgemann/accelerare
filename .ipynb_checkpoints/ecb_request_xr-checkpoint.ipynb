{
 "cells": [
  {
   "cell_type": "code",
   "execution_count": 9,
   "metadata": {},
   "outputs": [],
   "source": [
    "import requests     \n",
    "import pandas as pd \n",
    "import io"
   ]
  },
  {
   "cell_type": "code",
   "execution_count": 10,
   "metadata": {},
   "outputs": [],
   "source": [
    "# Building blocks for the URL\n",
    "entrypoint = 'https://sdw-wsrest.ecb.europa.eu/service/' # Using protocol 'https'\n",
    "resource = 'data'           # The resource for data queries is always'data'\n",
    "\n",
    "flowRef ='EXR'              # Dataflow describing the data that needs to be returned, exchange rates in this case\n",
    "key = 'D.CHF.EUR.SP00.A'    # Defining the dimension values, explained below\n",
    "\n",
    "# Define the parameters\n",
    "parameters = {\n",
    "    'startPeriod': '2020-01-01',  # Start date of the time series\n",
    "    'endPeriod': '2022-12-05'     # End of the time series\n",
    "}"
   ]
  },
  {
   "cell_type": "code",
   "execution_count": 11,
   "metadata": {},
   "outputs": [
    {
     "name": "stdout",
     "output_type": "stream",
     "text": [
      "<Response [200]>\n",
      "https://sdw-wsrest.ecb.europa.eu/service/data/EXR/D.CHF.EUR.SP00.A?startPeriod=2020-01-01&endPeriod=2022-12-05\n"
     ]
    }
   ],
   "source": [
    "# Construct the URL: https://sdw-wsrest.ecb.europa.eu/service/data/EXR/D.CHF.EUR.SP00.A\n",
    "request_url = entrypoint + resource + '/'+ flowRef + '/' + key\n",
    "\n",
    "# Make the HTTP request\n",
    "response = requests.get(request_url, params=parameters)\n",
    "\n",
    "# Check if the response returns succesfully with response code 200\n",
    "print(response)\n",
    "\n",
    "# Print the full URL\n",
    "print(response.url)"
   ]
  },
  {
   "cell_type": "code",
   "execution_count": 13,
   "metadata": {},
   "outputs": [
    {
     "name": "stdout",
     "output_type": "stream",
     "text": [
      "<Response [200]>\n"
     ]
    }
   ],
   "source": [
    "# Make the HTTP request again, now requesting for CSV format\n",
    "response = requests.get(request_url, params=parameters, headers={'Accept': 'text/csv'})\n",
    "\n",
    "# Response succesful? (Response code 200)\n",
    "print(response)"
   ]
  },
  {
   "cell_type": "code",
   "execution_count": 14,
   "metadata": {},
   "outputs": [],
   "source": [
    "# Read the response as a file into a Pandas DataFrame\n",
    "df = pd.read_csv(io.StringIO(response.text))"
   ]
  },
  {
   "cell_type": "code",
   "execution_count": 15,
   "metadata": {},
   "outputs": [
    {
     "name": "stdout",
     "output_type": "stream",
     "text": [
      "<class 'pandas.core.frame.DataFrame'>\n",
      "RangeIndex: 753 entries, 0 to 752\n",
      "Data columns (total 32 columns):\n",
      " #   Column           Non-Null Count  Dtype  \n",
      "---  ------           --------------  -----  \n",
      " 0   KEY              753 non-null    object \n",
      " 1   FREQ             753 non-null    object \n",
      " 2   CURRENCY         753 non-null    object \n",
      " 3   CURRENCY_DENOM   753 non-null    object \n",
      " 4   EXR_TYPE         753 non-null    object \n",
      " 5   EXR_SUFFIX       753 non-null    object \n",
      " 6   TIME_PERIOD      753 non-null    object \n",
      " 7   OBS_VALUE        753 non-null    float64\n",
      " 8   OBS_STATUS       753 non-null    object \n",
      " 9   OBS_CONF         753 non-null    object \n",
      " 10  OBS_PRE_BREAK    0 non-null      float64\n",
      " 11  OBS_COM          0 non-null      float64\n",
      " 12  TIME_FORMAT      753 non-null    object \n",
      " 13  BREAKS           0 non-null      float64\n",
      " 14  COLLECTION       753 non-null    object \n",
      " 15  COMPILING_ORG    0 non-null      float64\n",
      " 16  DISS_ORG         0 non-null      float64\n",
      " 17  DOM_SER_IDS      0 non-null      float64\n",
      " 18  PUBL_ECB         0 non-null      float64\n",
      " 19  PUBL_MU          0 non-null      float64\n",
      " 20  PUBL_PUBLIC      0 non-null      float64\n",
      " 21  UNIT_INDEX_BASE  0 non-null      float64\n",
      " 22  COMPILATION      0 non-null      float64\n",
      " 23  COVERAGE         0 non-null      float64\n",
      " 24  DECIMALS         753 non-null    int64  \n",
      " 25  NAT_TITLE        0 non-null      float64\n",
      " 26  SOURCE_AGENCY    753 non-null    object \n",
      " 27  SOURCE_PUB       0 non-null      float64\n",
      " 28  TITLE            753 non-null    object \n",
      " 29  TITLE_COMPL      753 non-null    object \n",
      " 30  UNIT             753 non-null    object \n",
      " 31  UNIT_MULT        753 non-null    int64  \n",
      "dtypes: float64(15), int64(2), object(15)\n",
      "memory usage: 188.4+ KB\n"
     ]
    }
   ],
   "source": [
    "# Check the DataFrame's information\n",
    "df.info()"
   ]
  },
  {
   "cell_type": "code",
   "execution_count": 17,
   "metadata": {},
   "outputs": [
    {
     "data": {
      "text/html": [
       "<div>\n",
       "<style scoped>\n",
       "    .dataframe tbody tr th:only-of-type {\n",
       "        vertical-align: middle;\n",
       "    }\n",
       "\n",
       "    .dataframe tbody tr th {\n",
       "        vertical-align: top;\n",
       "    }\n",
       "\n",
       "    .dataframe thead th {\n",
       "        text-align: right;\n",
       "    }\n",
       "</style>\n",
       "<table border=\"1\" class=\"dataframe\">\n",
       "  <thead>\n",
       "    <tr style=\"text-align: right;\">\n",
       "      <th></th>\n",
       "      <th>OBS_VALUE</th>\n",
       "    </tr>\n",
       "    <tr>\n",
       "      <th>TIME_PERIOD</th>\n",
       "      <th></th>\n",
       "    </tr>\n",
       "  </thead>\n",
       "  <tbody>\n",
       "    <tr>\n",
       "      <th>2020-01-02</th>\n",
       "      <td>1.0865</td>\n",
       "    </tr>\n",
       "    <tr>\n",
       "      <th>2020-01-03</th>\n",
       "      <td>1.0840</td>\n",
       "    </tr>\n",
       "    <tr>\n",
       "      <th>2020-01-06</th>\n",
       "      <td>1.0850</td>\n",
       "    </tr>\n",
       "    <tr>\n",
       "      <th>2020-01-07</th>\n",
       "      <td>1.0850</td>\n",
       "    </tr>\n",
       "    <tr>\n",
       "      <th>2020-01-08</th>\n",
       "      <td>1.0792</td>\n",
       "    </tr>\n",
       "  </tbody>\n",
       "</table>\n",
       "</div>"
      ],
      "text/plain": [
       "             OBS_VALUE\n",
       "TIME_PERIOD           \n",
       "2020-01-02      1.0865\n",
       "2020-01-03      1.0840\n",
       "2020-01-06      1.0850\n",
       "2020-01-07      1.0850\n",
       "2020-01-08      1.0792"
      ]
     },
     "execution_count": 17,
     "metadata": {},
     "output_type": "execute_result"
    }
   ],
   "source": [
    "# Create a new DataFrame called 'ts'\n",
    "ts = df.filter(['TIME_PERIOD', 'OBS_VALUE'], axis=1)\n",
    "\n",
    "# 'TIME_PERIOD' was of type 'object' (as seen in df.info). Convert it to datetime first\n",
    "ts['TIME_PERIOD'] = pd.to_datetime(ts['TIME_PERIOD'])\n",
    "\n",
    "# Set 'TIME_PERIOD' to be the index\n",
    "ts = ts.set_index('TIME_PERIOD')\n",
    "\n",
    "# Print the first 5 rows to screen\n",
    "ts.head()"
   ]
  },
  {
   "cell_type": "code",
   "execution_count": null,
   "metadata": {},
   "outputs": [],
   "source": []
  }
 ],
 "metadata": {
  "kernelspec": {
   "display_name": "Python 3",
   "language": "python",
   "name": "python3"
  },
  "language_info": {
   "codemirror_mode": {
    "name": "ipython",
    "version": 3
   },
   "file_extension": ".py",
   "mimetype": "text/x-python",
   "name": "python",
   "nbconvert_exporter": "python",
   "pygments_lexer": "ipython3",
   "version": "3.8.3"
  }
 },
 "nbformat": 4,
 "nbformat_minor": 4
}
