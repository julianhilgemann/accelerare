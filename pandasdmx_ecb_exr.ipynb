{
 "cells": [
  {
   "cell_type": "code",
   "execution_count": 3,
   "metadata": {},
   "outputs": [
    {
     "name": "stderr",
     "output_type": "stream",
     "text": [
      "2022-12-04 18:27:20,549 pandasdmx.reader.sdmxml - INFO: Use supplied dsd=… argument for non–structure-specific message\n",
      "2022-12-04 18:27:21,997 pandasdmx.reader.sdmxml - INFO: Use supplied dsd=… argument for non–structure-specific message\n"
     ]
    }
   ],
   "source": [
    "### Initiation.\n",
    "import pandasdmx as sdmx\n",
    "import sys\n",
    "import pandas as pd\n",
    "\n",
    "### Connect to ECB\n",
    "ecb = sdmx.Request('ECB')\n",
    "\n",
    "# Flow Message\n",
    "flow_msg = ecb.dataflow()\n",
    "\n",
    "#Data Flows\n",
    "dataflows = sdmx.to_pandas(flow_msg.dataflow)\n",
    "\n",
    "# Reference Query Parameters\n",
    "exr_msg = ecb.dataflow('EXR')\n",
    "exr_flow = exr_msg.dataflow.EXR\n",
    "\n",
    "# Metadata about structure\n",
    "dsd = exr_flow.structure\n",
    "\n",
    "### Setup of Query\n",
    "\n",
    "# What to fetch?\n",
    "key = dict(CURRENCY_DENOM='EUR', FREQ='D', EXR_SUFFIX='A')\n",
    "\n",
    "# Startdate\n",
    "params = dict(startPeriod='2019-01', endPeriod='2019-06')\n",
    "\n",
    "# Put it together\n",
    "data_msg = ecb.data('EXR', key=key, params=params)\n",
    "data = ecb.data('EXR', key=key, params=params).data[0]\n",
    "\n",
    "### Create Data Frame\n",
    "\n",
    "DF = sdmx.to_pandas(data, datetime=dict(dim='TIME_PERIOD', freq='FREQ', axis=1))\n",
    "\n",
    "### Write to file\n",
    "#DF.to_excel('export.xlsx')"
   ]
  },
  {
   "cell_type": "code",
   "execution_count": 8,
   "metadata": {},
   "outputs": [
    {
     "data": {
      "text/plain": [
       "AME                                                AMECO\n",
       "BKN                                 Banknotes statistics\n",
       "BLS                       Bank Lending Survey Statistics\n",
       "BNT        Shipments of Euro Banknotes Statistics (ESCB)\n",
       "BOP    Euro Area Balance of Payments and Internationa...\n",
       "                             ...                        \n",
       "SUR                                      Opinion Surveys\n",
       "TGB                                      Target Balances\n",
       "TRD                                       External Trade\n",
       "WTS                                        Trade weights\n",
       "YC                   Financial market data - yield curve\n",
       "Length: 75, dtype: object"
      ]
     },
     "execution_count": 8,
     "metadata": {},
     "output_type": "execute_result"
    }
   ],
   "source": [
    "dataflows"
   ]
  },
  {
   "cell_type": "code",
   "execution_count": 9,
   "metadata": {},
   "outputs": [
    {
     "data": {
      "text/plain": [
       "pandasdmx.model.GenericDataSet"
      ]
     },
     "execution_count": 9,
     "metadata": {},
     "output_type": "execute_result"
    }
   ],
   "source": [
    "type(data)"
   ]
  }
 ],
 "metadata": {
  "kernelspec": {
   "display_name": "Python 3",
   "language": "python",
   "name": "python3"
  },
  "language_info": {
   "codemirror_mode": {
    "name": "ipython",
    "version": 3
   },
   "file_extension": ".py",
   "mimetype": "text/x-python",
   "name": "python",
   "nbconvert_exporter": "python",
   "pygments_lexer": "ipython3",
   "version": "3.8.3"
  }
 },
 "nbformat": 4,
 "nbformat_minor": 4
}
